{
 "cells": [
  {
   "cell_type": "markdown",
   "metadata": {
    "colab_type": "text",
    "id": "dy-lRtqUQlWv"
   },
   "source": [
    "# Heart Failure Prediction Portfolio - Notebook 2 of 2\n",
    "\n",
    "<img src=\"images/heart.jpg\"/>\n"
   ]
  },
  {
   "cell_type": "markdown",
   "metadata": {
    "colab_type": "text",
    "id": "wt-S9LfOQlWx"
   },
   "source": [
    "After completing the **cleaning and EDA** steps on the dataset in the \"Heart Failure Prediction Data Cleaning and EDA Notebook 1 of 2\" in the project portfolio.\n",
    "\n",
    "We will now build couple of models to predict the target variable, identify the model with the best performance.\n",
    "\n",
    "# Table of Content\n",
    "***\n",
    "### Define the Problem:\n",
    "\n",
    "- [Part-1 :](#1.1)\n",
    "\n",
    "    - [1.1 - Import Packages](#1.1)\n",
    "\n",
    "    - [1.2 - Classes Definition](#1.2)\n",
    "\n",
    "- [Part-3 : Model Development](#3)\n",
    "\n",
    "    - [3.1 Load and Prepare Data For Modeling](#3.1)\n",
    "\n",
    "    - [3.2 Models Selection](#3.2)\n",
    "    \n",
    "    - [3.3 Feature Importance](#3.3)\n",
    "\n",
    "    - [3.4 Feature Engineering](#3.4)\n",
    "            \n",
    "    - [3.5 Models HyperParameter Tuning](#3.5)\n",
    "        \n",
    "    - [3.6 Models Evaluation](#3.6)\n",
    "    \n",
    "    - [3.7 Best Model Selection](#3.7)\n",
    "    \n",
    "    - [3.8 Model Improvement Opportunities](#3.8)\n"
   ]
  },
  {
   "cell_type": "markdown",
   "metadata": {
    "colab_type": "text",
    "id": "sFmVdbhzQlXN"
   },
   "source": [
    "### 1.1 Import Packages <a name=\"1.1\"></a>"
   ]
  },
  {
   "cell_type": "code",
   "execution_count": 1,
   "metadata": {
    "colab": {
     "base_uri": "https://localhost:8080/",
     "height": 51
    },
    "colab_type": "code",
    "executionInfo": {
     "elapsed": 992,
     "status": "ok",
     "timestamp": 1599660444428,
     "user": {
      "displayName": "Dapo Laniya",
      "photoUrl": "",
      "userId": "07293732013348809745"
     },
     "user_tz": 240
    },
    "id": "GyFILP5eQlW7",
    "outputId": "baae462c-c836-4549-c63f-6b4608bf8510"
   },
   "outputs": [],
   "source": [
    "#Analysis packages\n",
    "import pandas as pd\n",
    "import sklearn as sk\n",
    "import numpy as np\n",
    "import scipy.stats as sp\n",
    "\n",
    "#Visualization packages\n",
    "import matplotlib.pyplot as plt\n",
    "import matplotlib as matplot\n",
    "from matplotlib.ticker import MaxNLocator\n",
    "import seaborn as sns\n",
    "\n",
    "#Preprocessing\n",
    "from sklearn.preprocessing import StandardScaler\n",
    "from sklearn import preprocessing\n",
    "\n",
    "#Models & Sklearn packages\n",
    "from sklearn.metrics import f1_score, roc_auc_score, accuracy_score, make_scorer, fbeta_score, classification_report, precision_score, recall_score, confusion_matrix, precision_recall_curve\n",
    "\n",
    "from sklearn.linear_model import LogisticRegression\n",
    "from sklearn.tree import DecisionTreeClassifier\n",
    "from sklearn.ensemble import RandomForestClassifier \n",
    "from sklearn.ensemble import GradientBoostingClassifier\n",
    "from sklearn.ensemble import VotingClassifier\n",
    "from sklearn.model_selection import train_test_split\n",
    "\n",
    "\n",
    "from sklearn.model_selection import cross_val_score as cvs\n",
    "\n",
    "from sklearn.model_selection import GridSearchCV\n",
    "from sklearn.svm import SVC\n",
    "\n",
    "\n",
    "#setting directory where python interpreter looks for code files\n",
    "import sys\n",
    "sys.path.insert(0, './scripts')\n",
    "\n",
    "#read in functions from script file\n",
    "from codes import data_clean, eda_process\n",
    "from modelcodes import model\n",
    "\n",
    "from tqdm import tqdm\n",
    "import datetime\n",
    "\n",
    "import warnings\n",
    "warnings.filterwarnings('ignore')\n",
    "#your info here\n",
    "__author__ = \"Laniya Oladapo\"\n",
    "__email__ = \"laniyadapo@gmail.com\""
   ]
  },
  {
   "cell_type": "markdown",
   "metadata": {
    "colab_type": "text",
    "id": "sFmVdbhzQlXN"
   },
   "source": [
    "### 1.2 Define Classes <a name=\"1.2\"></a>"
   ]
  },
  {
   "cell_type": "markdown",
   "metadata": {
    "colab_type": "text",
    "id": "RR0SLpXZQlXd"
   },
   "source": [
    "Classes are defined in **\"modelcodes.py\"** module under script folder in working directory"
   ]
  },
  {
   "cell_type": "markdown",
   "metadata": {
    "colab_type": "raw",
    "id": "5D0ePMUpQlXL"
   },
   "source": [
    "## Part 3 - Model Development <a name=\"3\"></a>"
   ]
  },
  {
   "cell_type": "markdown",
   "metadata": {
    "colab_type": "text",
    "id": "sFmVdbhzQlXN"
   },
   "source": [
    "### 3.1 Load and Prepare Data For Modeling <a name=\"3.1\"></a>"
   ]
  },
  {
   "cell_type": "code",
   "execution_count": 2,
   "metadata": {
    "colab": {},
    "colab_type": "code",
    "executionInfo": {
     "elapsed": 3790,
     "status": "ok",
     "timestamp": 1599660454785,
     "user": {
      "displayName": "Dapo Laniya",
      "photoUrl": "",
      "userId": "07293732013348809745"
     },
     "user_tz": 240
    },
    "id": "nnuZkIzVQlXP"
   },
   "outputs": [],
   "source": [
    "#load the data exported from the Data Cleaning and EDA Notebook into a Pandas dataframe\n",
    "train_df = pd.read_csv(\"train_df_forModel.csv\")"
   ]
  },
  {
   "cell_type": "code",
   "execution_count": 3,
   "metadata": {},
   "outputs": [],
   "source": [
    "#Create a copy of data before starting model building process\n",
    "train_df_init = train_df.copy()"
   ]
  },
  {
   "cell_type": "code",
   "execution_count": 4,
   "metadata": {},
   "outputs": [
    {
     "data": {
      "text/html": [
       "<div>\n",
       "<style scoped>\n",
       "    .dataframe tbody tr th:only-of-type {\n",
       "        vertical-align: middle;\n",
       "    }\n",
       "\n",
       "    .dataframe tbody tr th {\n",
       "        vertical-align: top;\n",
       "    }\n",
       "\n",
       "    .dataframe thead th {\n",
       "        text-align: right;\n",
       "    }\n",
       "</style>\n",
       "<table border=\"1\" class=\"dataframe\">\n",
       "  <thead>\n",
       "    <tr style=\"text-align: right;\">\n",
       "      <th></th>\n",
       "      <th>age</th>\n",
       "      <th>anaemia</th>\n",
       "      <th>creatinine_phosphokinase</th>\n",
       "      <th>ejection_fraction</th>\n",
       "      <th>high_blood_pressure</th>\n",
       "      <th>serum_creatinine</th>\n",
       "      <th>serum_sodium</th>\n",
       "      <th>time</th>\n",
       "      <th>DEATH_EVENT</th>\n",
       "    </tr>\n",
       "  </thead>\n",
       "  <tbody>\n",
       "    <tr>\n",
       "      <th>0</th>\n",
       "      <td>75.0</td>\n",
       "      <td>0</td>\n",
       "      <td>582</td>\n",
       "      <td>20</td>\n",
       "      <td>1</td>\n",
       "      <td>1.9</td>\n",
       "      <td>130</td>\n",
       "      <td>4</td>\n",
       "      <td>1</td>\n",
       "    </tr>\n",
       "    <tr>\n",
       "      <th>1</th>\n",
       "      <td>55.0</td>\n",
       "      <td>0</td>\n",
       "      <td>7861</td>\n",
       "      <td>38</td>\n",
       "      <td>0</td>\n",
       "      <td>1.1</td>\n",
       "      <td>136</td>\n",
       "      <td>6</td>\n",
       "      <td>1</td>\n",
       "    </tr>\n",
       "    <tr>\n",
       "      <th>2</th>\n",
       "      <td>65.0</td>\n",
       "      <td>0</td>\n",
       "      <td>146</td>\n",
       "      <td>20</td>\n",
       "      <td>0</td>\n",
       "      <td>1.3</td>\n",
       "      <td>129</td>\n",
       "      <td>7</td>\n",
       "      <td>1</td>\n",
       "    </tr>\n",
       "    <tr>\n",
       "      <th>3</th>\n",
       "      <td>50.0</td>\n",
       "      <td>1</td>\n",
       "      <td>111</td>\n",
       "      <td>20</td>\n",
       "      <td>0</td>\n",
       "      <td>1.9</td>\n",
       "      <td>137</td>\n",
       "      <td>7</td>\n",
       "      <td>1</td>\n",
       "    </tr>\n",
       "    <tr>\n",
       "      <th>4</th>\n",
       "      <td>65.0</td>\n",
       "      <td>1</td>\n",
       "      <td>160</td>\n",
       "      <td>20</td>\n",
       "      <td>0</td>\n",
       "      <td>2.7</td>\n",
       "      <td>116</td>\n",
       "      <td>8</td>\n",
       "      <td>1</td>\n",
       "    </tr>\n",
       "  </tbody>\n",
       "</table>\n",
       "</div>"
      ],
      "text/plain": [
       "    age  anaemia  creatinine_phosphokinase  ejection_fraction  \\\n",
       "0  75.0        0                       582                 20   \n",
       "1  55.0        0                      7861                 38   \n",
       "2  65.0        0                       146                 20   \n",
       "3  50.0        1                       111                 20   \n",
       "4  65.0        1                       160                 20   \n",
       "\n",
       "   high_blood_pressure  serum_creatinine  serum_sodium  time  DEATH_EVENT  \n",
       "0                    1               1.9           130     4            1  \n",
       "1                    0               1.1           136     6            1  \n",
       "2                    0               1.3           129     7            1  \n",
       "3                    0               1.9           137     7            1  \n",
       "4                    0               2.7           116     8            1  "
      ]
     },
     "execution_count": 4,
     "metadata": {},
     "output_type": "execute_result"
    }
   ],
   "source": [
    "train_df.head()"
   ]
  },
  {
   "cell_type": "markdown",
   "metadata": {
    "colab_type": "text",
    "id": "RR0SLpXZQlXd"
   },
   "source": [
    "**3.1.1 Prepare dataframes for modeling**"
   ]
  },
  {
   "cell_type": "code",
   "execution_count": 5,
   "metadata": {},
   "outputs": [],
   "source": [
    "#Create independent features dataframe for modelling\n",
    "train_df_X = (train_df.drop(['DEATH_EVENT'], axis=1)).copy()"
   ]
  },
  {
   "cell_type": "code",
   "execution_count": 6,
   "metadata": {},
   "outputs": [],
   "source": [
    "#Create dependent feature dataframe for modelling\n",
    "train_df_Y = train_df.DEATH_EVENT"
   ]
  },
  {
   "cell_type": "code",
   "execution_count": 7,
   "metadata": {},
   "outputs": [],
   "source": [
    "#Split training data\n",
    "X_train, X_test, y_train, y_test = train_test_split(train_df_X, train_df_Y, test_size=0.25, random_state=5)"
   ]
  },
  {
   "cell_type": "markdown",
   "metadata": {
    "colab_type": "text",
    "id": "jeZTvMoSQldX"
   },
   "source": [
    "### 3.2 Models Selection <a name=\"3.2\"></a>"
   ]
  },
  {
   "cell_type": "markdown",
   "metadata": {},
   "source": [
    "Below are descriptions of selected models and rationale behind selecting them.\n",
    "\n",
    "1. **Logistic Regression** - is easier to implement, interpret, and very efficient to train. It makes no assumptions about distributions of classes in feature space and very fast at classifying unknown records.\n",
    "2. **Decision Tree Classifier** - asides from simplicity and ease of interpretation, it uses an internal decision-making logic that allows acquired knowledge from a data set to be extracted in a readable form. Also nonlinear relationships between parameters do not influence the trees performance.\n",
    "3. **RandomForest Classifier** - is considered as a highly accurate and robust method because of the number of decision trees used. It does not suffer from overfitting problem because it takes the average of all predictions, which cancels out the biases.\n",
    "4. **GradientBoosting Classifier** - typically produces best predictions because it can optimize on different loss functions and provides several hyperparameter tuning options that make the function fit very flexible.\n",
    "5. **Support Vector Classifier** - it works relatively well when there is a clear margin of separation between classes and is relatively memory efficient."
   ]
  },
  {
   "cell_type": "markdown",
   "metadata": {},
   "source": [
    "**3.2.1 First step is to create the models using default parameters.**"
   ]
  },
  {
   "cell_type": "code",
   "execution_count": 8,
   "metadata": {},
   "outputs": [
    {
     "name": "stdout",
     "output_type": "stream",
     "text": [
      "[('lr', LogisticRegression()), ('dtreeC', DecisionTreeClassifier(random_state=1)), ('RfC', RandomForestClassifier(random_state=1)), ('Gbc', GradientBoostingClassifier(random_state=1)), ('SC', SVC())]\n"
     ]
    }
   ],
   "source": [
    "# create models\n",
    "models_eval = []\n",
    "\n",
    "models_eval.append(('lr', LogisticRegression()))\n",
    "models_eval.append(('dtreeC', DecisionTreeClassifier(random_state=1)))\n",
    "models_eval.append(('RfC', RandomForestClassifier(random_state=1)))\n",
    "models_eval.append(('Gbc', GradientBoostingClassifier(random_state=1)))\n",
    "models_eval.append(('SC', SVC()))\n",
    "\n",
    "print(models_eval)"
   ]
  },
  {
   "cell_type": "markdown",
   "metadata": {},
   "source": [
    "**3.2.2 Evaluate the selected models using the following metrics : Confusion Matrix & Accuracy**\n",
    "    \n",
    "    The DEATH_EVENT expected output is a discrete binary value hence we will use from the suite of classification supervised learning algorithms. "
   ]
  },
  {
   "cell_type": "code",
   "execution_count": 9,
   "metadata": {},
   "outputs": [
    {
     "name": "stdout",
     "output_type": "stream",
     "text": [
      "Training Data Confusion Matrix:\n",
      "[[136  14]\n",
      " [ 21  53]]\n",
      "Testing Data Confusion Matrix:\n",
      "[[47  6]\n",
      " [ 7 15]]\n",
      "lr: Training Data Accuracy- 0.843750, Validation Data Accuracy- 0.826667\n",
      "Training Data Confusion Matrix:\n",
      "[[150   0]\n",
      " [  0  74]]\n",
      "Testing Data Confusion Matrix:\n",
      "[[46  7]\n",
      " [11 11]]\n",
      "dtreeC: Training Data Accuracy- 1.000000, Validation Data Accuracy- 0.760000\n",
      "Training Data Confusion Matrix:\n",
      "[[150   0]\n",
      " [  0  74]]\n",
      "Testing Data Confusion Matrix:\n",
      "[[48  5]\n",
      " [ 8 14]]\n",
      "RfC: Training Data Accuracy- 1.000000, Validation Data Accuracy- 0.826667\n",
      "Training Data Confusion Matrix:\n",
      "[[150   0]\n",
      " [  1  73]]\n",
      "Testing Data Confusion Matrix:\n",
      "[[45  8]\n",
      " [ 8 14]]\n",
      "Gbc: Training Data Accuracy- 0.995536, Validation Data Accuracy- 0.786667\n",
      "Training Data Confusion Matrix:\n",
      "[[150   0]\n",
      " [ 71   3]]\n",
      "Testing Data Confusion Matrix:\n",
      "[[51  2]\n",
      " [21  1]]\n",
      "SC: Training Data Accuracy- 0.683036, Validation Data Accuracy- 0.693333\n"
     ]
    },
    {
     "data": {
      "image/png": "[encoded data removed]",
      "text/plain": [
       "<Figure size 864x360 with 2 Axes>"
      ]
     },
     "metadata": {
      "needs_background": "light"
     },
     "output_type": "display_data"
    }
   ],
   "source": [
    "#Evaluate baseline models with default parameters\n",
    "model_run0 = model(X_train, X_test, y_train, y_test)\n",
    "model_run0.model_run(models_eval, 'Default Parameters ')"
   ]
  },
  {
   "cell_type": "markdown",
   "metadata": {
    "colab_type": "text",
    "id": "7Dt9cVdUQldW"
   },
   "source": [
    "With the metrics established with the defualt parameters, our next task is to improve the scores and select the best model."
   ]
  },
  {
   "cell_type": "markdown",
   "metadata": {
    "colab_type": "text",
    "id": "CXyUsqGWQldY"
   },
   "source": [
    "Considering the baseline model predictions are based on data provided without extensive feature generation or model tuning we will perform some feature engineering and cross validation to improve the scores and fix any issue of overfitting before selecting the best model.\n"
   ]
  },
  {
   "cell_type": "markdown",
   "metadata": {
    "colab_type": "text",
    "id": "HU-HaOghQlh3"
   },
   "source": [
    "### 3.3 Feature Importance <a name=\"3.3\"></a>"
   ]
  },
  {
   "cell_type": "markdown",
   "metadata": {},
   "source": [
    "We will compute **feature importance** with the RandomForest to determine features that can be dropped from the final model."
   ]
  },
  {
   "cell_type": "code",
   "execution_count": 10,
   "metadata": {},
   "outputs": [
    {
     "data": {
      "text/html": [
       "<div>\n",
       "<style scoped>\n",
       "    .dataframe tbody tr th:only-of-type {\n",
       "        vertical-align: middle;\n",
       "    }\n",
       "\n",
       "    .dataframe tbody tr th {\n",
       "        vertical-align: top;\n",
       "    }\n",
       "\n",
       "    .dataframe thead th {\n",
       "        text-align: right;\n",
       "    }\n",
       "</style>\n",
       "<table border=\"1\" class=\"dataframe\">\n",
       "  <thead>\n",
       "    <tr style=\"text-align: right;\">\n",
       "      <th></th>\n",
       "      <th>index</th>\n",
       "      <th>feature</th>\n",
       "      <th>importance</th>\n",
       "    </tr>\n",
       "  </thead>\n",
       "  <tbody>\n",
       "    <tr>\n",
       "      <th>0</th>\n",
       "      <td>7</td>\n",
       "      <td>time</td>\n",
       "      <td>0.367809</td>\n",
       "    </tr>\n",
       "    <tr>\n",
       "      <th>1</th>\n",
       "      <td>5</td>\n",
       "      <td>serum_creatinine</td>\n",
       "      <td>0.149799</td>\n",
       "    </tr>\n",
       "    <tr>\n",
       "      <th>2</th>\n",
       "      <td>3</td>\n",
       "      <td>ejection_fraction</td>\n",
       "      <td>0.126499</td>\n",
       "    </tr>\n",
       "    <tr>\n",
       "      <th>3</th>\n",
       "      <td>0</td>\n",
       "      <td>age</td>\n",
       "      <td>0.117357</td>\n",
       "    </tr>\n",
       "    <tr>\n",
       "      <th>4</th>\n",
       "      <td>2</td>\n",
       "      <td>creatinine_phosphokinase</td>\n",
       "      <td>0.109508</td>\n",
       "    </tr>\n",
       "    <tr>\n",
       "      <th>5</th>\n",
       "      <td>6</td>\n",
       "      <td>serum_sodium</td>\n",
       "      <td>0.098186</td>\n",
       "    </tr>\n",
       "    <tr>\n",
       "      <th>6</th>\n",
       "      <td>1</td>\n",
       "      <td>anaemia</td>\n",
       "      <td>0.017465</td>\n",
       "    </tr>\n",
       "    <tr>\n",
       "      <th>7</th>\n",
       "      <td>4</td>\n",
       "      <td>high_blood_pressure</td>\n",
       "      <td>0.013377</td>\n",
       "    </tr>\n",
       "  </tbody>\n",
       "</table>\n",
       "</div>"
      ],
      "text/plain": [
       "   index                   feature  importance\n",
       "0      7                      time    0.367809\n",
       "1      5          serum_creatinine    0.149799\n",
       "2      3         ejection_fraction    0.126499\n",
       "3      0                       age    0.117357\n",
       "4      2  creatinine_phosphokinase    0.109508\n",
       "5      6              serum_sodium    0.098186\n",
       "6      1                   anaemia    0.017465\n",
       "7      4       high_blood_pressure    0.013377"
      ]
     },
     "execution_count": 10,
     "metadata": {},
     "output_type": "execute_result"
    }
   ],
   "source": [
    "RfC = RandomForestClassifier(random_state=1)\n",
    "RfC.fit(X_train, y_train)\n",
    "features_imp = pd.DataFrame({'feature': train_df_X.columns, 'importance': RfC.feature_importances_}).sort_values(by='importance', ascending=False)\n",
    "features_imp = features_imp.reset_index()\n",
    "features_imp"
   ]
  },
  {
   "cell_type": "markdown",
   "metadata": {
    "colab_type": "text",
    "id": "Lc2h8CLdQlgz"
   },
   "source": [
    "Findings :  \n",
    "    \n",
    "1. The top 6 important features are :\n",
    "   - **time**\n",
    "   - **serum_creatinine**\n",
    "   - **ejection_fraction**\n",
    "   - **age**\n",
    "   - **creatinine_phosphokinase**\n",
    "   - **serium_sodium**\n",
    "2. We will drop **anaemia** and **high_blood_pressure** as they also have low correlation to the target variable as discovered during the EDA."
   ]
  },
  {
   "cell_type": "markdown",
   "metadata": {
    "colab_type": "text",
    "id": "VRWivsSyQldf"
   },
   "source": [
    "### 3.4 Feature Engineering <a name=\"3.4\"></a>"
   ]
  },
  {
   "cell_type": "markdown",
   "metadata": {
    "colab_type": "text",
    "id": "ynW6sQjqQlc-"
   },
   "source": [
    "**3.4.1 Create dataframe for independent features**"
   ]
  },
  {
   "cell_type": "code",
   "execution_count": 11,
   "metadata": {},
   "outputs": [
    {
     "data": {
      "text/html": [
       "<div>\n",
       "<style scoped>\n",
       "    .dataframe tbody tr th:only-of-type {\n",
       "        vertical-align: middle;\n",
       "    }\n",
       "\n",
       "    .dataframe tbody tr th {\n",
       "        vertical-align: top;\n",
       "    }\n",
       "\n",
       "    .dataframe thead th {\n",
       "        text-align: right;\n",
       "    }\n",
       "</style>\n",
       "<table border=\"1\" class=\"dataframe\">\n",
       "  <thead>\n",
       "    <tr style=\"text-align: right;\">\n",
       "      <th></th>\n",
       "      <th>age</th>\n",
       "      <th>anaemia</th>\n",
       "      <th>creatinine_phosphokinase</th>\n",
       "      <th>ejection_fraction</th>\n",
       "      <th>high_blood_pressure</th>\n",
       "      <th>serum_creatinine</th>\n",
       "      <th>serum_sodium</th>\n",
       "      <th>time</th>\n",
       "    </tr>\n",
       "  </thead>\n",
       "  <tbody>\n",
       "    <tr>\n",
       "      <th>0</th>\n",
       "      <td>75.0</td>\n",
       "      <td>0</td>\n",
       "      <td>582</td>\n",
       "      <td>20</td>\n",
       "      <td>1</td>\n",
       "      <td>1.9</td>\n",
       "      <td>130</td>\n",
       "      <td>4</td>\n",
       "    </tr>\n",
       "    <tr>\n",
       "      <th>1</th>\n",
       "      <td>55.0</td>\n",
       "      <td>0</td>\n",
       "      <td>7861</td>\n",
       "      <td>38</td>\n",
       "      <td>0</td>\n",
       "      <td>1.1</td>\n",
       "      <td>136</td>\n",
       "      <td>6</td>\n",
       "    </tr>\n",
       "    <tr>\n",
       "      <th>2</th>\n",
       "      <td>65.0</td>\n",
       "      <td>0</td>\n",
       "      <td>146</td>\n",
       "      <td>20</td>\n",
       "      <td>0</td>\n",
       "      <td>1.3</td>\n",
       "      <td>129</td>\n",
       "      <td>7</td>\n",
       "    </tr>\n",
       "    <tr>\n",
       "      <th>3</th>\n",
       "      <td>50.0</td>\n",
       "      <td>1</td>\n",
       "      <td>111</td>\n",
       "      <td>20</td>\n",
       "      <td>0</td>\n",
       "      <td>1.9</td>\n",
       "      <td>137</td>\n",
       "      <td>7</td>\n",
       "    </tr>\n",
       "    <tr>\n",
       "      <th>4</th>\n",
       "      <td>65.0</td>\n",
       "      <td>1</td>\n",
       "      <td>160</td>\n",
       "      <td>20</td>\n",
       "      <td>0</td>\n",
       "      <td>2.7</td>\n",
       "      <td>116</td>\n",
       "      <td>8</td>\n",
       "    </tr>\n",
       "    <tr>\n",
       "      <th>...</th>\n",
       "      <td>...</td>\n",
       "      <td>...</td>\n",
       "      <td>...</td>\n",
       "      <td>...</td>\n",
       "      <td>...</td>\n",
       "      <td>...</td>\n",
       "      <td>...</td>\n",
       "      <td>...</td>\n",
       "    </tr>\n",
       "    <tr>\n",
       "      <th>294</th>\n",
       "      <td>62.0</td>\n",
       "      <td>0</td>\n",
       "      <td>61</td>\n",
       "      <td>38</td>\n",
       "      <td>1</td>\n",
       "      <td>1.1</td>\n",
       "      <td>143</td>\n",
       "      <td>270</td>\n",
       "    </tr>\n",
       "    <tr>\n",
       "      <th>295</th>\n",
       "      <td>55.0</td>\n",
       "      <td>0</td>\n",
       "      <td>1820</td>\n",
       "      <td>38</td>\n",
       "      <td>0</td>\n",
       "      <td>1.2</td>\n",
       "      <td>139</td>\n",
       "      <td>271</td>\n",
       "    </tr>\n",
       "    <tr>\n",
       "      <th>296</th>\n",
       "      <td>45.0</td>\n",
       "      <td>0</td>\n",
       "      <td>2060</td>\n",
       "      <td>60</td>\n",
       "      <td>0</td>\n",
       "      <td>0.8</td>\n",
       "      <td>138</td>\n",
       "      <td>278</td>\n",
       "    </tr>\n",
       "    <tr>\n",
       "      <th>297</th>\n",
       "      <td>45.0</td>\n",
       "      <td>0</td>\n",
       "      <td>2413</td>\n",
       "      <td>38</td>\n",
       "      <td>0</td>\n",
       "      <td>1.4</td>\n",
       "      <td>140</td>\n",
       "      <td>280</td>\n",
       "    </tr>\n",
       "    <tr>\n",
       "      <th>298</th>\n",
       "      <td>50.0</td>\n",
       "      <td>0</td>\n",
       "      <td>196</td>\n",
       "      <td>45</td>\n",
       "      <td>0</td>\n",
       "      <td>1.6</td>\n",
       "      <td>136</td>\n",
       "      <td>285</td>\n",
       "    </tr>\n",
       "  </tbody>\n",
       "</table>\n",
       "<p>299 rows × 8 columns</p>\n",
       "</div>"
      ],
      "text/plain": [
       "      age  anaemia  creatinine_phosphokinase  ejection_fraction  \\\n",
       "0    75.0        0                       582                 20   \n",
       "1    55.0        0                      7861                 38   \n",
       "2    65.0        0                       146                 20   \n",
       "3    50.0        1                       111                 20   \n",
       "4    65.0        1                       160                 20   \n",
       "..    ...      ...                       ...                ...   \n",
       "294  62.0        0                        61                 38   \n",
       "295  55.0        0                      1820                 38   \n",
       "296  45.0        0                      2060                 60   \n",
       "297  45.0        0                      2413                 38   \n",
       "298  50.0        0                       196                 45   \n",
       "\n",
       "     high_blood_pressure  serum_creatinine  serum_sodium  time  \n",
       "0                      1               1.9           130     4  \n",
       "1                      0               1.1           136     6  \n",
       "2                      0               1.3           129     7  \n",
       "3                      0               1.9           137     7  \n",
       "4                      0               2.7           116     8  \n",
       "..                   ...               ...           ...   ...  \n",
       "294                    1               1.1           143   270  \n",
       "295                    0               1.2           139   271  \n",
       "296                    0               0.8           138   278  \n",
       "297                    0               1.4           140   280  \n",
       "298                    0               1.6           136   285  \n",
       "\n",
       "[299 rows x 8 columns]"
      ]
     },
     "execution_count": 11,
     "metadata": {},
     "output_type": "execute_result"
    }
   ],
   "source": [
    "#Create independent features dataframe for modelling\n",
    "train_df_X1 = (train_df.drop(['DEATH_EVENT'], axis=1)).copy()  \n",
    "train_df_X1"
   ]
  },
  {
   "cell_type": "code",
   "execution_count": 12,
   "metadata": {},
   "outputs": [
    {
     "data": {
      "text/html": [
       "<div>\n",
       "<style scoped>\n",
       "    .dataframe tbody tr th:only-of-type {\n",
       "        vertical-align: middle;\n",
       "    }\n",
       "\n",
       "    .dataframe tbody tr th {\n",
       "        vertical-align: top;\n",
       "    }\n",
       "\n",
       "    .dataframe thead th {\n",
       "        text-align: right;\n",
       "    }\n",
       "</style>\n",
       "<table border=\"1\" class=\"dataframe\">\n",
       "  <thead>\n",
       "    <tr style=\"text-align: right;\">\n",
       "      <th></th>\n",
       "      <th>age</th>\n",
       "      <th>anaemia</th>\n",
       "      <th>creatinine_phosphokinase</th>\n",
       "      <th>ejection_fraction</th>\n",
       "      <th>high_blood_pressure</th>\n",
       "      <th>serum_creatinine</th>\n",
       "      <th>serum_sodium</th>\n",
       "      <th>time</th>\n",
       "    </tr>\n",
       "  </thead>\n",
       "  <tbody>\n",
       "    <tr>\n",
       "      <th>count</th>\n",
       "      <td>299.000000</td>\n",
       "      <td>299.000000</td>\n",
       "      <td>299.000000</td>\n",
       "      <td>299.000000</td>\n",
       "      <td>299.000000</td>\n",
       "      <td>299.00000</td>\n",
       "      <td>299.000000</td>\n",
       "      <td>299.000000</td>\n",
       "    </tr>\n",
       "    <tr>\n",
       "      <th>mean</th>\n",
       "      <td>60.833893</td>\n",
       "      <td>0.431438</td>\n",
       "      <td>581.839465</td>\n",
       "      <td>38.083612</td>\n",
       "      <td>0.351171</td>\n",
       "      <td>1.39388</td>\n",
       "      <td>136.625418</td>\n",
       "      <td>130.260870</td>\n",
       "    </tr>\n",
       "    <tr>\n",
       "      <th>std</th>\n",
       "      <td>11.894809</td>\n",
       "      <td>0.496107</td>\n",
       "      <td>970.287881</td>\n",
       "      <td>11.834841</td>\n",
       "      <td>0.478136</td>\n",
       "      <td>1.03451</td>\n",
       "      <td>4.412477</td>\n",
       "      <td>77.614208</td>\n",
       "    </tr>\n",
       "    <tr>\n",
       "      <th>min</th>\n",
       "      <td>40.000000</td>\n",
       "      <td>0.000000</td>\n",
       "      <td>23.000000</td>\n",
       "      <td>14.000000</td>\n",
       "      <td>0.000000</td>\n",
       "      <td>0.50000</td>\n",
       "      <td>113.000000</td>\n",
       "      <td>4.000000</td>\n",
       "    </tr>\n",
       "    <tr>\n",
       "      <th>25%</th>\n",
       "      <td>51.000000</td>\n",
       "      <td>0.000000</td>\n",
       "      <td>116.500000</td>\n",
       "      <td>30.000000</td>\n",
       "      <td>0.000000</td>\n",
       "      <td>0.90000</td>\n",
       "      <td>134.000000</td>\n",
       "      <td>73.000000</td>\n",
       "    </tr>\n",
       "    <tr>\n",
       "      <th>50%</th>\n",
       "      <td>60.000000</td>\n",
       "      <td>0.000000</td>\n",
       "      <td>250.000000</td>\n",
       "      <td>38.000000</td>\n",
       "      <td>0.000000</td>\n",
       "      <td>1.10000</td>\n",
       "      <td>137.000000</td>\n",
       "      <td>115.000000</td>\n",
       "    </tr>\n",
       "    <tr>\n",
       "      <th>75%</th>\n",
       "      <td>70.000000</td>\n",
       "      <td>1.000000</td>\n",
       "      <td>582.000000</td>\n",
       "      <td>45.000000</td>\n",
       "      <td>1.000000</td>\n",
       "      <td>1.40000</td>\n",
       "      <td>140.000000</td>\n",
       "      <td>203.000000</td>\n",
       "    </tr>\n",
       "    <tr>\n",
       "      <th>max</th>\n",
       "      <td>95.000000</td>\n",
       "      <td>1.000000</td>\n",
       "      <td>7861.000000</td>\n",
       "      <td>80.000000</td>\n",
       "      <td>1.000000</td>\n",
       "      <td>9.40000</td>\n",
       "      <td>148.000000</td>\n",
       "      <td>285.000000</td>\n",
       "    </tr>\n",
       "  </tbody>\n",
       "</table>\n",
       "</div>"
      ],
      "text/plain": [
       "              age     anaemia  creatinine_phosphokinase  ejection_fraction  \\\n",
       "count  299.000000  299.000000                299.000000         299.000000   \n",
       "mean    60.833893    0.431438                581.839465          38.083612   \n",
       "std     11.894809    0.496107                970.287881          11.834841   \n",
       "min     40.000000    0.000000                 23.000000          14.000000   \n",
       "25%     51.000000    0.000000                116.500000          30.000000   \n",
       "50%     60.000000    0.000000                250.000000          38.000000   \n",
       "75%     70.000000    1.000000                582.000000          45.000000   \n",
       "max     95.000000    1.000000               7861.000000          80.000000   \n",
       "\n",
       "       high_blood_pressure  serum_creatinine  serum_sodium        time  \n",
       "count           299.000000         299.00000    299.000000  299.000000  \n",
       "mean              0.351171           1.39388    136.625418  130.260870  \n",
       "std               0.478136           1.03451      4.412477   77.614208  \n",
       "min               0.000000           0.50000    113.000000    4.000000  \n",
       "25%               0.000000           0.90000    134.000000   73.000000  \n",
       "50%               0.000000           1.10000    137.000000  115.000000  \n",
       "75%               1.000000           1.40000    140.000000  203.000000  \n",
       "max               1.000000           9.40000    148.000000  285.000000  "
      ]
     },
     "execution_count": 12,
     "metadata": {},
     "output_type": "execute_result"
    }
   ],
   "source": [
    "train_df_X1.describe()"
   ]
  },
  {
   "cell_type": "markdown",
   "metadata": {
    "colab_type": "text",
    "id": "ynW6sQjqQlc-"
   },
   "source": [
    "**3.4.2 Perform feature engineering on data to improve model performance**"
   ]
  },
  {
   "cell_type": "code",
   "execution_count": 13,
   "metadata": {},
   "outputs": [
    {
     "data": {
      "text/plain": [
       "Index(['age', 'anaemia', 'creatinine_phosphokinase', 'ejection_fraction',\n",
       "       'high_blood_pressure', 'serum_creatinine', 'serum_sodium', 'time'],\n",
       "      dtype='object')"
      ]
     },
     "execution_count": 13,
     "metadata": {},
     "output_type": "execute_result"
    }
   ],
   "source": [
    "#Extract all numerical feature ready for encoding\n",
    "train_df_X1.select_dtypes(exclude=['object']).columns"
   ]
  },
  {
   "cell_type": "code",
   "execution_count": 14,
   "metadata": {},
   "outputs": [],
   "source": [
    "#Create a dataframe to be utilised for the data normalization\n",
    "num_features = ['age', 'creatinine_phosphokinase', 'ejection_fraction', 'serum_creatinine', 'serum_sodium', 'time']\n",
    "num_data = train_df_X1[num_features]"
   ]
  },
  {
   "cell_type": "code",
   "execution_count": 15,
   "metadata": {},
   "outputs": [
    {
     "data": {
      "text/html": [
       "<div>\n",
       "<style scoped>\n",
       "    .dataframe tbody tr th:only-of-type {\n",
       "        vertical-align: middle;\n",
       "    }\n",
       "\n",
       "    .dataframe tbody tr th {\n",
       "        vertical-align: top;\n",
       "    }\n",
       "\n",
       "    .dataframe thead th {\n",
       "        text-align: right;\n",
       "    }\n",
       "</style>\n",
       "<table border=\"1\" class=\"dataframe\">\n",
       "  <thead>\n",
       "    <tr style=\"text-align: right;\">\n",
       "      <th></th>\n",
       "      <th>age</th>\n",
       "      <th>creatinine_phosphokinase</th>\n",
       "      <th>ejection_fraction</th>\n",
       "      <th>serum_creatinine</th>\n",
       "      <th>serum_sodium</th>\n",
       "      <th>time</th>\n",
       "    </tr>\n",
       "  </thead>\n",
       "  <tbody>\n",
       "    <tr>\n",
       "      <th>0</th>\n",
       "      <td>1.192945</td>\n",
       "      <td>0.000166</td>\n",
       "      <td>-1.530560</td>\n",
       "      <td>0.490057</td>\n",
       "      <td>-1.504036</td>\n",
       "      <td>-1.629502</td>\n",
       "    </tr>\n",
       "    <tr>\n",
       "      <th>1</th>\n",
       "      <td>-0.491279</td>\n",
       "      <td>7.514640</td>\n",
       "      <td>-0.007077</td>\n",
       "      <td>-0.284552</td>\n",
       "      <td>-0.141976</td>\n",
       "      <td>-1.603691</td>\n",
       "    </tr>\n",
       "    <tr>\n",
       "      <th>2</th>\n",
       "      <td>0.350833</td>\n",
       "      <td>-0.449939</td>\n",
       "      <td>-1.530560</td>\n",
       "      <td>-0.090900</td>\n",
       "      <td>-1.731046</td>\n",
       "      <td>-1.590785</td>\n",
       "    </tr>\n",
       "    <tr>\n",
       "      <th>3</th>\n",
       "      <td>-0.912335</td>\n",
       "      <td>-0.486071</td>\n",
       "      <td>-1.530560</td>\n",
       "      <td>0.490057</td>\n",
       "      <td>0.085034</td>\n",
       "      <td>-1.590785</td>\n",
       "    </tr>\n",
       "    <tr>\n",
       "      <th>4</th>\n",
       "      <td>0.350833</td>\n",
       "      <td>-0.435486</td>\n",
       "      <td>-1.530560</td>\n",
       "      <td>1.264666</td>\n",
       "      <td>-4.682176</td>\n",
       "      <td>-1.577879</td>\n",
       "    </tr>\n",
       "  </tbody>\n",
       "</table>\n",
       "</div>"
      ],
      "text/plain": [
       "        age  creatinine_phosphokinase  ejection_fraction  serum_creatinine  \\\n",
       "0  1.192945                  0.000166          -1.530560          0.490057   \n",
       "1 -0.491279                  7.514640          -0.007077         -0.284552   \n",
       "2  0.350833                 -0.449939          -1.530560         -0.090900   \n",
       "3 -0.912335                 -0.486071          -1.530560          0.490057   \n",
       "4  0.350833                 -0.435486          -1.530560          1.264666   \n",
       "\n",
       "   serum_sodium      time  \n",
       "0     -1.504036 -1.629502  \n",
       "1     -0.141976 -1.603691  \n",
       "2     -1.731046 -1.590785  \n",
       "3      0.085034 -1.590785  \n",
       "4     -4.682176 -1.577879  "
      ]
     },
     "execution_count": 15,
     "metadata": {},
     "output_type": "execute_result"
    }
   ],
   "source": [
    "#Normalize numerical data in Training Dataset ready for modeling\n",
    "\n",
    "scaler = StandardScaler()\n",
    "\n",
    "num_data_scaled = scaler.fit_transform(num_data)\n",
    "train_df_X1_scaled = pd.DataFrame(num_data_scaled,columns=num_data.columns)\n",
    "train_df_X1_scaled.head()"
   ]
  },
  {
   "cell_type": "code",
   "execution_count": 16,
   "metadata": {},
   "outputs": [],
   "source": [
    "#Split training data\n",
    "X1_train, X1_test, y1_train, y1_test = train_test_split(train_df_X1_scaled, train_df_Y, test_size=0.20, random_state=5)"
   ]
  },
  {
   "cell_type": "markdown",
   "metadata": {},
   "source": [
    "Next stage is to perform **Hyperparameter tuning** to get the parameters that will give the optimal metric for each model."
   ]
  },
  {
   "cell_type": "markdown",
   "metadata": {
    "colab_type": "text",
    "id": "Q9RVcYnoQleI"
   },
   "source": [
    "### 3.5 Models Hyperparameter tuning <a name=\"3.5\"></a>"
   ]
  },
  {
   "cell_type": "markdown",
   "metadata": {
    "colab_type": "text",
    "id": "ynW6sQjqQlc-"
   },
   "source": [
    "**3.5.1 Logistic Regression Model Hyperparameter tuning**"
   ]
  },
  {
   "cell_type": "code",
   "execution_count": 17,
   "metadata": {},
   "outputs": [
    {
     "name": "stdout",
     "output_type": "stream",
     "text": [
      "Best Parameters were: {'C': 1, 'class_weight': 'None', 'multi_class': 'ovr', 'solver': 'newton-cg'}\n",
      "Best CrossVal Score was:0.8357456140350877\n"
     ]
    }
   ],
   "source": [
    "lr = LogisticRegression(random_state=7)             # initialize the model\n",
    "\n",
    "solver_options = ['newton-cg', 'lbfgs', 'liblinear', 'sag']\n",
    "multi_class_options = ['ovr', 'multinomial']\n",
    "class_weight_options = ['None', 'balanced']\n",
    "C = [1, 2, 4, 6, 8, 10]\n",
    "\n",
    "param_grid = dict(solver = solver_options, multi_class = \n",
    "multi_class_options, class_weight = class_weight_options, C = C)\n",
    "\n",
    "\n",
    "grid = GridSearchCV(lr, param_grid, cv=12, scoring = \"accuracy\" )\n",
    "grid.fit(X1_train, y1_train)\n",
    "\n",
    "\n",
    "print('Best Parameters were: {}'.format(grid.best_params_))\n",
    "print('Best CrossVal Score was:{}'.format(grid.best_score_))\n"
   ]
  },
  {
   "cell_type": "markdown",
   "metadata": {
    "colab_type": "text",
    "id": "ynW6sQjqQlc-"
   },
   "source": [
    "**3.5.2 Decision Tree Classifier Model Hyperparameter tuning**"
   ]
  },
  {
   "cell_type": "code",
   "execution_count": 18,
   "metadata": {},
   "outputs": [
    {
     "name": "stdout",
     "output_type": "stream",
     "text": [
      "Best Parameters were: {'criterion': 'entropy', 'max_depth': 2}\n",
      "Best CrossVal Score was:0.8245614035087722\n"
     ]
    }
   ],
   "source": [
    "dtreeC = DecisionTreeClassifier(random_state=7)\n",
    "\n",
    "criterion = ['gini', 'entropy']\n",
    "max_depth = [2,4,6,8,10,12,16]\n",
    "\n",
    "param_grid = dict(criterion=criterion, max_depth=max_depth)\n",
    "\n",
    "grid_dtreeC = GridSearchCV(dtreeC, param_grid, cv=12, scoring= \"accuracy\")\n",
    "\n",
    "grid_dtreeC.fit(X1_train, y1_train)\n",
    "\n",
    "print('Best Parameters were: {}'.format(grid_dtreeC.best_params_))\n",
    "print('Best CrossVal Score was:{}'.format(grid_dtreeC.best_score_))"
   ]
  },
  {
   "cell_type": "markdown",
   "metadata": {
    "colab_type": "text",
    "id": "ynW6sQjqQlc-"
   },
   "source": [
    "**3.5.3 Random Forest Classifier Model Hyperparameter tuning**"
   ]
  },
  {
   "cell_type": "code",
   "execution_count": 19,
   "metadata": {
    "colab": {},
    "colab_type": "code",
    "id": "D_QwiY7R9xzF",
    "scrolled": true
   },
   "outputs": [
    {
     "name": "stdout",
     "output_type": "stream",
     "text": [
      "Fitting 12 folds for each of 96 candidates, totalling 1152 fits\n"
     ]
    },
    {
     "name": "stderr",
     "output_type": "stream",
     "text": [
      "[Parallel(n_jobs=-1)]: Using backend LokyBackend with 4 concurrent workers.\n",
      "[Parallel(n_jobs=-1)]: Done  33 tasks      | elapsed:   26.5s\n",
      "[Parallel(n_jobs=-1)]: Done 154 tasks      | elapsed:  1.1min\n",
      "[Parallel(n_jobs=-1)]: Done 357 tasks      | elapsed:  2.3min\n",
      "[Parallel(n_jobs=-1)]: Done 640 tasks      | elapsed:  3.9min\n",
      "[Parallel(n_jobs=-1)]: Done 1005 tasks      | elapsed:  6.3min\n",
      "[Parallel(n_jobs=-1)]: Done 1152 out of 1152 | elapsed:  7.3min finished\n"
     ]
    },
    {
     "name": "stdout",
     "output_type": "stream",
     "text": [
      "Best Parameters were: {'criterion': 'gini', 'max_depth': 4, 'max_features': 'sqrt', 'n_estimators': 100}\n",
      "Best CrossVal Score was:0.8578947368421054\n"
     ]
    }
   ],
   "source": [
    "RfC = RandomForestClassifier(random_state=7)\n",
    "\n",
    "n_estimators = [10, 100, 1000]\n",
    "max_features = ['sqrt', 'log2']\n",
    "max_depth = [1, 2, 4, 5, 6, 7, 8, 10]\n",
    "criterion = ['gini', 'entropy']\n",
    "\n",
    "param_grid = dict(criterion=criterion, n_estimators=n_estimators, max_features=max_features, max_depth=max_depth)\n",
    "\n",
    "grid_RfC = GridSearchCV(RfC, param_grid, cv=12, n_jobs=-1, scoring= \"accuracy\", verbose = 2)\n",
    "grid_RfC.fit(X1_train, y1_train)\n",
    "\n",
    "print('Best Parameters were: {}'.format(grid_RfC.best_params_))\n",
    "print('Best CrossVal Score was:{}'.format(grid_RfC.best_score_))"
   ]
  },
  {
   "cell_type": "markdown",
   "metadata": {
    "colab_type": "text",
    "id": "ynW6sQjqQlc-"
   },
   "source": [
    "**3.5.4 Gradient Boost Model Hyperparameter tuning**"
   ]
  },
  {
   "cell_type": "code",
   "execution_count": 20,
   "metadata": {},
   "outputs": [
    {
     "name": "stdout",
     "output_type": "stream",
     "text": [
      "Fitting 3 folds for each of 3150 candidates, totalling 9450 fits\n"
     ]
    },
    {
     "name": "stderr",
     "output_type": "stream",
     "text": [
      "[Parallel(n_jobs=-1)]: Using backend LokyBackend with 4 concurrent workers.\n",
      "[Parallel(n_jobs=-1)]: Done  58 tasks      | elapsed:    6.0s\n",
      "[Parallel(n_jobs=-1)]: Done 194 tasks      | elapsed:   19.7s\n",
      "[Parallel(n_jobs=-1)]: Done 397 tasks      | elapsed:   37.7s\n",
      "[Parallel(n_jobs=-1)]: Done 680 tasks      | elapsed:  1.1min\n",
      "[Parallel(n_jobs=-1)]: Done 1045 tasks      | elapsed:  1.6min\n",
      "[Parallel(n_jobs=-1)]: Done 1490 tasks      | elapsed:  2.3min\n",
      "[Parallel(n_jobs=-1)]: Done 2017 tasks      | elapsed:  3.2min\n",
      "[Parallel(n_jobs=-1)]: Done 2624 tasks      | elapsed:  4.1min\n",
      "[Parallel(n_jobs=-1)]: Done 3313 tasks      | elapsed:  5.2min\n",
      "[Parallel(n_jobs=-1)]: Done 4082 tasks      | elapsed:  6.3min\n",
      "[Parallel(n_jobs=-1)]: Done 4933 tasks      | elapsed:  7.5min\n",
      "[Parallel(n_jobs=-1)]: Done 5864 tasks      | elapsed:  8.8min\n",
      "[Parallel(n_jobs=-1)]: Done 6877 tasks      | elapsed: 10.3min\n",
      "[Parallel(n_jobs=-1)]: Done 7970 tasks      | elapsed: 11.8min\n",
      "[Parallel(n_jobs=-1)]: Done 9145 tasks      | elapsed: 13.5min\n",
      "[Parallel(n_jobs=-1)]: Done 9450 out of 9450 | elapsed: 13.9min finished\n"
     ]
    },
    {
     "name": "stdout",
     "output_type": "stream",
     "text": [
      "Best Parameters were: {'learning_rate': 0.03, 'max_depth': 5, 'max_features': 'sqrt', 'min_samples_leaf': 10, 'min_samples_split': 100, 'n_estimators': 300}\n",
      "Best CrossVal Score was:0.8742088607594937\n"
     ]
    }
   ],
   "source": [
    "Gbc = GradientBoostingClassifier(random_state=1)\n",
    "\n",
    "n_estimators = [10, 100, 300, 500, 1000]\n",
    "max_features = ['sqrt', 'log2']\n",
    "max_depth = [5, 10, 20,50, 70, 80, 100]\n",
    "learning_rate = [0.01, 0.03, 0.05, 0.07, 1]\n",
    "min_samples_split = [100, 300, 500]\n",
    "min_samples_leaf = [10, 30, 50]\n",
    "\n",
    "param_grid = dict(n_estimators=n_estimators, max_features=max_features, max_depth=max_depth, learning_rate=learning_rate,\n",
    "                 min_samples_split=min_samples_split, min_samples_leaf=min_samples_leaf)\n",
    "\n",
    "grid_Gbc = GridSearchCV(Gbc, param_grid, cv=3, n_jobs=-1, scoring= \"accuracy\", verbose = 2)\n",
    "grid_Gbc.fit(X1_train, y1_train)\n",
    "\n",
    "print('Best Parameters were: {}'.format(grid_Gbc.best_params_))\n",
    "print('Best CrossVal Score was:{}'.format(grid_Gbc.best_score_))"
   ]
  },
  {
   "cell_type": "markdown",
   "metadata": {
    "colab_type": "text",
    "id": "ynW6sQjqQlc-"
   },
   "source": [
    "**3.5.5 Support Vector Model Hyperparameter tuning**"
   ]
  },
  {
   "cell_type": "code",
   "execution_count": 21,
   "metadata": {
    "colab": {},
    "colab_type": "code",
    "id": "13pMxltgQler",
    "scrolled": false
   },
   "outputs": [
    {
     "name": "stdout",
     "output_type": "stream",
     "text": [
      "Best Parameters were: {'C': 10, 'gamma': 'scale', 'kernel': 'poly'}\n",
      "Best CrossVal Score was:0.8324561403508771\n"
     ]
    }
   ],
   "source": [
    "SC = SVC(random_state=7)\n",
    "\n",
    "kernel = ['poly', 'rbf', 'sigmoid']\n",
    "C = [50, 10, 1.0, 0.1, 0.01]\n",
    "gamma = ['scale']\n",
    "\n",
    "\n",
    "param_grid = dict(kernel=kernel,C=C,gamma=gamma)\n",
    "\n",
    "grid_SVC = GridSearchCV(estimator=SC, param_grid=param_grid, n_jobs=-1, cv=12, scoring= \"accuracy\" ,error_score=0)\n",
    "grid_SVC.fit(X1_train, y1_train)\n",
    "\n",
    "print('Best Parameters were: {}'.format(grid_SVC.best_params_))\n",
    "print('Best CrossVal Score was:{}'.format(grid_SVC.best_score_))"
   ]
  },
  {
   "cell_type": "markdown",
   "metadata": {
    "colab_type": "text",
    "id": "CnviDw1fQle2"
   },
   "source": [
    "### 3.6 Models Evaluation <a name=\"3.6\"></a>"
   ]
  },
  {
   "cell_type": "markdown",
   "metadata": {
    "colab_type": "text",
    "id": "OIaR3OJPQlel"
   },
   "source": [
    "**3.6.1 Compile the selected models with the best parameters for evaluation**"
   ]
  },
  {
   "cell_type": "code",
   "execution_count": 22,
   "metadata": {
    "colab": {
     "base_uri": "https://localhost:8080/",
     "height": 292
    },
    "colab_type": "code",
    "executionInfo": {
     "elapsed": 848,
     "status": "ok",
     "timestamp": 1599660755465,
     "user": {
      "displayName": "Dapo Laniya",
      "photoUrl": "",
      "userId": "07293732013348809745"
     },
     "user_tz": 240
    },
    "id": "HcC8UN-OUNfx",
    "outputId": "a5f4a0df-49d8-48ed-bf42-9ad2c4935e32"
   },
   "outputs": [
    {
     "name": "stdout",
     "output_type": "stream",
     "text": [
      "[('lr', LogisticRegression(C=1, class_weight='None', multi_class='ovr', random_state=5,\n",
      "                   solver='newton-cg')), ('dtreeC', DecisionTreeClassifier(criterion='entropy', max_depth=2, random_state=5)), ('RfC', RandomForestClassifier(max_depth=4, max_features='sqrt', random_state=5)), ('Gbc', GradientBoostingClassifier(learning_rate=0.03, max_depth=5, max_features='sqrt',\n",
      "                           min_samples_leaf=10, min_samples_split=100,\n",
      "                           n_estimators=300, random_state=5)), ('SC', SVC(C=10.0, kernel='poly', random_state=5))]\n"
     ]
    }
   ],
   "source": [
    "# create models\n",
    "models_eval_hp = []\n",
    "\n",
    "models_eval_hp.append(('lr', LogisticRegression(class_weight= 'None', multi_class= 'ovr', solver= 'newton-cg', C = 1, random_state= 5)))\n",
    "models_eval_hp.append(('dtreeC', DecisionTreeClassifier(criterion= 'entropy', max_depth= 2, random_state=5)))\n",
    "models_eval_hp.append(('RfC', RandomForestClassifier(criterion= 'gini', max_depth= 4, max_features= 'sqrt', n_estimators= 100, random_state=5)))\n",
    "models_eval_hp.append(('Gbc', GradientBoostingClassifier(n_estimators=300, max_features='sqrt', max_depth=5, learning_rate=0.03, min_samples_split=100, min_samples_leaf=10, random_state=5)))\n",
    "models_eval_hp.append(('SC', SVC(C= 10.0, gamma= 'scale', kernel= 'poly', random_state=5)))\n",
    "                   \n",
    "print(models_eval_hp)"
   ]
  },
  {
   "cell_type": "markdown",
   "metadata": {
    "colab_type": "text",
    "id": "OIaR3OJPQlel"
   },
   "source": [
    "**3.6.2 This function is to evaluate the models using the cross validation technique on the split feature training data**"
   ]
  },
  {
   "cell_type": "code",
   "execution_count": 23,
   "metadata": {},
   "outputs": [
    {
     "name": "stderr",
     "output_type": "stream",
     "text": [
      " 20%|██        | 1/5 [00:00<00:00,  5.50it/s]"
     ]
    },
    {
     "name": "stdout",
     "output_type": "stream",
     "text": [
      "lr: 0.836436 (0.066534)\n",
      "dtreeC: 0.790780 (0.061827)\n"
     ]
    },
    {
     "name": "stderr",
     "output_type": "stream",
     "text": [
      "\r",
      " 60%|██████    | 3/5 [00:02<00:01,  1.89it/s]"
     ]
    },
    {
     "name": "stdout",
     "output_type": "stream",
     "text": [
      "RfC: 0.861879 (0.055384)\n"
     ]
    },
    {
     "name": "stderr",
     "output_type": "stream",
     "text": [
      "100%|██████████| 5/5 [00:05<00:00,  1.06s/it]"
     ]
    },
    {
     "name": "stdout",
     "output_type": "stream",
     "text": [
      "Gbc: 0.849202 (0.038996)\n",
      "SC: 0.790691 (0.051465)\n"
     ]
    },
    {
     "name": "stderr",
     "output_type": "stream",
     "text": [
      "\n"
     ]
    },
    {
     "data": {
      "image/png": "[encoded data removed]",
      "text/plain": [
       "<Figure size 1080x504 with 1 Axes>"
      ]
     },
     "metadata": {
      "needs_background": "light"
     },
     "output_type": "display_data"
    }
   ],
   "source": [
    "kfold = model(X1_train, X1_test, y1_train, y1_test)\n",
    "kfold.cross_fold_val(models_eval_hp)"
   ]
  },
  {
   "cell_type": "markdown",
   "metadata": {
    "colab_type": "text",
    "id": "OIaR3OJPQlel"
   },
   "source": [
    "**3.6.3 Explore Ensemble Voting Classifier**"
   ]
  },
  {
   "cell_type": "code",
   "execution_count": 24,
   "metadata": {},
   "outputs": [
    {
     "name": "stdout",
     "output_type": "stream",
     "text": [
      "Accuracy is: 0.8\n",
      "F1 Score is: 0.6470588235294118\n",
      "The Confusion matrix:\n",
      " [[37  6]\n",
      " [ 6 11]]\n"
     ]
    }
   ],
   "source": [
    "voting_clf = VotingClassifier(estimators=[('LR', lr), ('DTree', dtreeC), ('RFC', RfC), ('GBC', Gbc), ('SVC', SC)], voting='hard')\n",
    "voting_clf.fit(X1_train, y1_train)\n",
    "preds = voting_clf.predict(X1_test)\n",
    "acc = accuracy_score(y1_test, preds)\n",
    "confmat = confusion_matrix(y1_test, preds)\n",
    "#l_loss = log_loss(y1_test, preds)\n",
    "f1 = f1_score(y1_test, preds)\n",
    "\n",
    "print(\"Accuracy is: \" + str(acc))\n",
    "#print(\"Log Loss is: \" + str(l_loss))\n",
    "print(\"F1 Score is: \" + str(f1))\n",
    "\n",
    "print(\"The Confusion matrix:\\n\", confmat)"
   ]
  },
  {
   "cell_type": "markdown",
   "metadata": {
    "colab_type": "text",
    "id": "Lc2h8CLdQlgz"
   },
   "source": [
    "**Findings :**  \n",
    "    \n",
    "The ensemble voting classifier approach does not provide an improved result."
   ]
  },
  {
   "cell_type": "markdown",
   "metadata": {
    "colab_type": "text",
    "id": "OIaR3OJPQlel"
   },
   "source": [
    "**3.6.4 Evaluate model performance with ROC Curve Plot**"
   ]
  },
  {
   "cell_type": "code",
   "execution_count": 25,
   "metadata": {},
   "outputs": [
    {
     "data": {
      "image/png": "[encoded data removed]",
      "text/plain": [
       "<Figure size 432x288 with 1 Axes>"
      ]
     },
     "metadata": {
      "needs_background": "light"
     },
     "output_type": "display_data"
    }
   ],
   "source": [
    "lr = LogisticRegression(class_weight= 'None', multi_class= 'ovr', solver= 'newton-cg', C = 1, random_state= 5)\n",
    "dtreeC = DecisionTreeClassifier(criterion= 'entropy', max_depth= 2, random_state=5)\n",
    "RfC = RandomForestClassifier(criterion= 'gini', max_depth= 4, max_features= 'sqrt', n_estimators= 100, random_state=5)\n",
    "Gbc = GradientBoostingClassifier(n_estimators=300, max_features='sqrt', max_depth=5, learning_rate=0.03, min_samples_split=100, min_samples_leaf=10, random_state=5)\n",
    "SC = SVC(C= 10.0, gamma= 'scale', kernel= 'poly', random_state=5)\n",
    "\n",
    "lr= lr.fit(X1_train, y1_train)\n",
    "dtreeC= dtreeC.fit(X1_train, y1_train)\n",
    "RfC= RfC.fit(X1_train, y1_train)\n",
    "Gbc= Gbc.fit(X1_train, y1_train)\n",
    "SC= SC.fit(X1_train, y1_train)\n",
    "\n",
    "lr_roc_auc = roc_auc_score(y1_test, lr.predict(X1_test))\n",
    "dtreeC_roc_auc = roc_auc_score(y1_test, dtreeC.predict(X1_test))\n",
    "RfC_roc_auc = roc_auc_score(y1_test, RfC.predict(X1_test))\n",
    "Gbc_roc_auc = roc_auc_score(y1_test, Gbc.predict(X1_test))\n",
    "SC_roc_auc = roc_auc_score(y1_test, SC.predict(X1_test))\n",
    "\n",
    "\n",
    "\n",
    "# Create ROC Graph\n",
    "from sklearn.metrics import roc_curve\n",
    "lr_fpr, lr_tpr, lr_thresholds = roc_curve(y1_test, lr.predict_proba(X1_test)[:,1])\n",
    "dtreeC_fpr, dtreeC_tpr, dtreeC_thresholds = roc_curve(y1_test, dtreeC.predict_proba(X1_test)[:,1])\n",
    "RfC_fpr, RfC_tpr, RfC_thresholds = roc_curve(y1_test, RfC.predict_proba(X1_test)[:,1])\n",
    "Gbc_fpr, Gbc_tpr, Gbc_thresholds = roc_curve(y1_test, Gbc.predict_proba(X1_test)[:,1])\n",
    "#SC_fpr, SC_tpr, SC_thresholds = roc_curve(y2_test, SC.predict_proba(X2_test)[:,1])\n",
    "\n",
    "\n",
    "plt.figure()\n",
    "\n",
    "# Plot Logistic Regression ROC\n",
    "plt.plot(lr_fpr, lr_tpr, label='Logistic Regression (area = %0.2f)' % lr_roc_auc)\n",
    "\n",
    "# Plot Decision Tree ROC\n",
    "plt.plot(dtreeC_fpr, dtreeC_tpr, label='Decision Tree Classifier (area = %0.2f)' % dtreeC_roc_auc)\n",
    "\n",
    "# Plot Random Forest ROC\n",
    "plt.plot(RfC_fpr, RfC_tpr, label='Random Forest Classifier (area = %0.2f)' % RfC_roc_auc)\n",
    "\n",
    "# Plot Gradient Boost ROC\n",
    "plt.plot(Gbc_fpr, Gbc_tpr, label='Gradient Boosting Classifier (area = %0.2f)' % Gbc_roc_auc)\n",
    "\n",
    "# Plot Support Vector ROC\n",
    "#plt.plot(SC_fpr, SC_tpr, label='Support Vector Classifier (area = %0.2f)' % SC_roc_auc)\n",
    "\n",
    "# Plot Base Rate ROC\n",
    "plt.plot([0,1], [0,1],label='Base Rate')\n",
    "\n",
    "plt.xlim([0.0, 1.0])\n",
    "plt.ylim([0.0, 1.05])\n",
    "plt.xlabel('False Positive Rate')\n",
    "plt.ylabel('True Positive Rate')\n",
    "plt.title('ROC Graph')\n",
    "plt.legend(loc=\"lower right\")\n",
    "plt.show()"
   ]
  },
  {
   "cell_type": "markdown",
   "metadata": {
    "colab_type": "text",
    "id": "Lc2h8CLdQlgz"
   },
   "source": [
    "**Findings :**  \n",
    "    \n",
    "Random Forest Model has the best Area under the curve, hence will be selected as best Model for deployment."
   ]
  },
  {
   "cell_type": "markdown",
   "metadata": {
    "colab_type": "text",
    "id": "RHvxDBIrQlg0"
   },
   "source": [
    "### 3.7 Best Model Selection <a name=\"3.7\"></a>"
   ]
  },
  {
   "cell_type": "markdown",
   "metadata": {
    "colab_type": "text",
    "id": "OIaR3OJPQlel"
   },
   "source": [
    "**3.7.1 Define best model selected from section 3.6**"
   ]
  },
  {
   "cell_type": "code",
   "execution_count": 26,
   "metadata": {
    "colab": {
     "base_uri": "https://localhost:8080/",
     "height": 34
    },
    "colab_type": "code",
    "executionInfo": {
     "elapsed": 1207,
     "status": "ok",
     "timestamp": 1599660865313,
     "user": {
      "displayName": "Dapo Laniya",
      "photoUrl": "",
      "userId": "07293732013348809745"
     },
     "user_tz": 240
    },
    "id": "QSZzs4XOQlg1",
    "outputId": "c499876b-50fa-413c-cca6-185227304a99"
   },
   "outputs": [
    {
     "data": {
      "text/plain": [
       "RandomForestClassifier(max_depth=4, max_features='sqrt', random_state=5)"
      ]
     },
     "execution_count": 26,
     "metadata": {},
     "output_type": "execute_result"
    }
   ],
   "source": [
    "#Best Model is selected\n",
    "bestModel = RandomForestClassifier(criterion= 'gini', max_depth= 4, max_features= 'sqrt', n_estimators= 100, random_state=5)\n",
    "bestModel"
   ]
  },
  {
   "cell_type": "markdown",
   "metadata": {
    "colab_type": "text",
    "id": "OIaR3OJPQlel"
   },
   "source": [
    "**3.7.2 Recall and Precision Review from Train Data Predictions**"
   ]
  },
  {
   "cell_type": "code",
   "execution_count": 27,
   "metadata": {},
   "outputs": [
    {
     "name": "stdout",
     "output_type": "stream",
     "text": [
      "The Confusion matrix:\n",
      " [[156   4]\n",
      " [ 15  64]]\n",
      "Precision Score: 0.94\n",
      "Recall Score: 0.81\n"
     ]
    }
   ],
   "source": [
    "#Evaluate the split train data with the bestModel to review TP & FN\n",
    "evaluation = model(X1_train, X1_test, y1_train, y1_test)\n",
    "evaluation.bestmodel_eval(bestModel)"
   ]
  },
  {
   "cell_type": "markdown",
   "metadata": {
    "colab_type": "text",
    "id": "Lc2h8CLdQlgz"
   },
   "source": [
    "**Findings :**  \n",
    "    \n",
    "There are 4 False Positive predictions which means patients that actually died but we predicted as alive. This is not acceptable as we will miss patients that should be giving more treatments because of the wrong model prediction.\n",
    "    \n",
    "Therefore, we want to have an interpretable model that has a great precision to minimize the false positive which helps us avaoid missing patients that need treatment, and a model that could have a lower specificity (e.g., recall) which increases patients that actually lived but we predict as died. This patients will only undergo further tests but will eventualy live."
   ]
  },
  {
   "cell_type": "markdown",
   "metadata": {
    "colab_type": "text",
    "id": "OIaR3OJPQlel"
   },
   "source": [
    "**3.7.3 Identify threshold value that provides optimal precision value**"
   ]
  },
  {
   "cell_type": "code",
   "execution_count": 28,
   "metadata": {},
   "outputs": [
    {
     "name": "stdout",
     "output_type": "stream",
     "text": [
      "Confusion matrix:\n",
      " [[160   0]\n",
      " [ 23  56]]\n",
      "\n",
      "Accuracy: 0.9\n",
      "Sensitivity: 0.71\n",
      "Precision: 1.0\n",
      "F1-Score: 0.83\n",
      "AUC: 0.85\n"
     ]
    }
   ],
   "source": [
    "#Exploring threshold value increase to reduce the number of false positives \n",
    "y_pred_prob = bestModel.predict_proba(X1_train)[:,1]\n",
    "y_pred_class = np.where(y_pred_prob<0.65,0,1)\n",
    "\n",
    "trainprobpred = model(X1_train, X1_test, y1_train, y1_test)\n",
    "trainprobpred.summary_metrics(y1_train, y_pred_class)"
   ]
  },
  {
   "cell_type": "markdown",
   "metadata": {
    "colab_type": "text",
    "id": "OIaR3OJPQlel"
   },
   "source": [
    "**3.7.4 Evaluate model performance with threshold on split test data**"
   ]
  },
  {
   "cell_type": "code",
   "execution_count": 29,
   "metadata": {},
   "outputs": [
    {
     "name": "stdout",
     "output_type": "stream",
     "text": [
      "Confusion matrix:\n",
      " [[41  2]\n",
      " [ 7 10]]\n",
      "\n",
      "Accuracy: 0.85\n",
      "Sensitivity: 0.59\n",
      "Precision: 0.83\n",
      "F1-Score: 0.69\n",
      "AUC: 0.77\n"
     ]
    }
   ],
   "source": [
    "#Evaluate model performance with threshold value on split test data.\n",
    "test_predictions_prob = bestModel.predict_proba(X1_test)[:,1]\n",
    "y_testpred_class = np.where(test_predictions_prob<0.65, 0, 1)\n",
    "\n",
    "testprobpred = model(X1_train, X1_test, y1_train, y1_test)\n",
    "testprobpred.summary_metrics(y1_test, y_testpred_class)"
   ]
  },
  {
   "cell_type": "markdown",
   "metadata": {
    "colab_type": "text",
    "id": "Lc2h8CLdQlgz"
   },
   "source": [
    "**Findings :**  \n",
    "    \n",
    "There are still 2 False Positive predictions that we can eliminate by further decreasing our threshold. A decision needs to be made on what we will do about the threshold. \n",
    "\n",
    "Definitely losing a life due to wrong model prediction is unacceptable."
   ]
  },
  {
   "cell_type": "markdown",
   "metadata": {
    "colab_type": "text",
    "id": "hz6B1hKNQliK"
   },
   "source": [
    "### 3.8 Model Improvement Opportunities <a name=\"3.8\"></a>"
   ]
  },
  {
   "cell_type": "markdown",
   "metadata": {
    "colab_type": "text",
    "id": "cgmcMp1TQliL"
   },
   "source": [
    "1. Review and consider collecting more features for each patients.\n",
    "2. Consider addressing imbalance in the data set."
   ]
  },
  {
   "cell_type": "markdown",
   "metadata": {},
   "source": [
    "### This is the conclusion of the Project. The model is available for deployment based on available data."
   ]
  }
 ],
 "metadata": {
  "accelerator": "TPU",
  "colab": {
   "name": "Copy of Salary Prediction Notebook.ipynb",
   "provenance": [
    {
     "file_id": "1dZqfT5s7hjfGo79syoUpxanJYt9wbSuH",
     "timestamp": 1599650290555
    },
    {
     "file_id": "15ECUiWi_gnt08Y_LIVu3YKDntgwxA57V",
     "timestamp": 1599588421736
    }
   ],
   "toc_visible": true
  },
  "kernelspec": {
   "display_name": "Python 3",
   "language": "python",
   "name": "python3"
  },
  "language_info": {
   "codemirror_mode": {
    "name": "ipython",
    "version": 3
   },
   "file_extension": ".py",
   "mimetype": "text/x-python",
   "name": "python",
   "nbconvert_exporter": "python",
   "pygments_lexer": "ipython3",
   "version": "3.8.3"
  }
 },
 "nbformat": 4,
 "nbformat_minor": 1
}
